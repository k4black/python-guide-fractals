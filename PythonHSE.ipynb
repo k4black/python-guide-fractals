{
 "cells": [
  {
   "cell_type": "markdown",
   "metadata": {},
   "source": [
    "# Примитивные типы и переменные"
   ]
  },
  {
   "cell_type": "markdown",
   "metadata": {},
   "source": [
    "**Первая программа**  \n",
    "Приветствуем мир\n",
    "\n",
    ">print( \"Hello world!\" )"
   ]
  },
  {
   "cell_type": "markdown",
   "metadata": {},
   "source": [
    "**Максимум из трёх чисел**\n",
    "Даны **три** числа. Найдите и выведите максимум"
   ]
  },
  {
   "cell_type": "markdown",
   "metadata": {},
   "source": [
    "**Целые числа**  \n",
    "Вычислите и выведите\n",
    "\n",
    ">5! + 12 * 2"
   ]
  },
  {
   "cell_type": "markdown",
   "metadata": {},
   "source": [
    "**Факториал**  \n",
    "Вычислите *n!*"
   ]
  },
  {
   "cell_type": "markdown",
   "metadata": {},
   "source": [
    "**Дробные числа**  \n",
    "Сосчитайте площадь треугольника, где  \n",
    "***h*** *- высота*  \n",
    "***a*** *- сторона*\n",
    "\n",
    ">h = 11  \n",
    ">a = 7"
   ]
  },
  {
   "cell_type": "markdown",
   "metadata": {},
   "source": [
    "**Максимум**  \n",
    "Вводился *n* числе подряд. Найдите максимум среди них и выведите его. "
   ]
  },
  {
   "cell_type": "markdown",
   "metadata": {},
   "source": [
    "**Строки**  \n",
    "Выведите строку, состоящуюю из *56* букв *'i'*"
   ]
  },
  {
   "cell_type": "markdown",
   "metadata": {},
   "source": [
    "***  \n",
    "# Вещественные числа"
   ]
  },
  {
   "cell_type": "markdown",
   "metadata": {},
   "source": [
    "**Переменные**  \n",
    "Давайте создадим переменную и выведем её\n",
    "\n",
    ">a = 3  \n",
    ">print( a )"
   ]
  },
  {
   "cell_type": "markdown",
   "metadata": {},
   "source": [
    "**a + b = c**  \n",
    "Вводятся *a, b, c* - действительные числа. \n",
    "\n",
    "*Сравнение с точностью до 7 знаков*"
   ]
  },
  {
   "cell_type": "markdown",
   "metadata": {},
   "source": [
    "**Ввод данных**  \n",
    "Сосчитайте сумму двух введенных чисел\n",
    "\n",
    ">a = input()  \n",
    ">b = input()  \n",
    ">print( a + b )"
   ]
  },
  {
   "cell_type": "markdown",
   "metadata": {},
   "source": [
    "****"
   ]
  },
  {
   "cell_type": "markdown",
   "metadata": {},
   "source": [
    "**Площадь треугольника**  \n",
    "Считайте и сосчитате площадь треугольника, где  \n",
    "***h*** *- высота*  \n",
    "***a*** *- сторона*"
   ]
  },
  {
   "cell_type": "markdown",
   "metadata": {},
   "source": [
    "**Четные элементы**  \n",
    "Считайте и выведите массив длины *n*."
   ]
  },
  {
   "cell_type": "markdown",
   "metadata": {},
   "source": [
    "**Переменные**  \n",
    "Давайте создадим переменную и выведем её\n",
    "\n",
    ">a = 3  \n",
    ">print( a )"
   ]
  },
  {
   "cell_type": "code",
   "execution_count": null,
   "metadata": {},
   "outputs": [],
   "source": []
  },
  {
   "cell_type": "code",
   "execution_count": null,
   "metadata": {},
   "outputs": [],
   "source": []
  },
  {
   "cell_type": "code",
   "execution_count": null,
   "metadata": {},
   "outputs": [],
   "source": []
  },
  {
   "cell_type": "code",
   "execution_count": null,
   "metadata": {},
   "outputs": [],
   "source": []
  },
  {
   "cell_type": "markdown",
   "metadata": {},
   "source": [
    "\n",
    "<details>\n",
    "    <summary>Подсказка</summary>\n",
    "    <p>\n",
    "        Я хз как туту сделать цитату - такую же как сверху\n",
    "    </p>\n",
    "</details>"
   ]
  },
  {
   "cell_type": "markdown",
   "metadata": {},
   "source": [
    "***  \n",
    "# Условный оператор, цикл while"
   ]
  },
  {
   "cell_type": "markdown",
   "metadata": {},
   "source": [
    "**Максимум из двух чисел**  \n",
    "Даны два числа. Найдите и выведите максимум  \n",
    "\n",
    ">if A and B:  \n",
    ">    pass  \n",
    ">else:  \n",
    ">    pass  \n",
    "\n",
    "\n",
    ">while A or B:  \n",
    ">    pass"
   ]
  },
  {
   "cell_type": "markdown",
   "metadata": {},
   "source": [
    "**Максимум из трёх чисел**\n",
    "Даны **три** числа. Найдите и выведите максимум"
   ]
  },
  {
   "cell_type": "code",
   "execution_count": null,
   "metadata": {},
   "outputs": [],
   "source": []
  },
  {
   "cell_type": "markdown",
   "metadata": {},
   "source": [
    "**Факториал**  \n",
    "Вычислите *n!*"
   ]
  },
  {
   "cell_type": "code",
   "execution_count": null,
   "metadata": {},
   "outputs": [],
   "source": []
  },
  {
   "cell_type": "markdown",
   "metadata": {},
   "source": [
    "**Максимум**  \n",
    "Вводился *n* числе подряд. Найдите максимум среди них и выведите его. "
   ]
  },
  {
   "cell_type": "code",
   "execution_count": null,
   "metadata": {},
   "outputs": [],
   "source": []
  },
  {
   "cell_type": "markdown",
   "metadata": {},
   "source": [
    "***  \n",
    "# Вещественные числа"
   ]
  },
  {
   "cell_type": "markdown",
   "metadata": {},
   "source": [
    "**a + b = c**  \n",
    "Вводятся *a, b, c* - действительные числа. \n",
    "\n",
    "*Сравнение с точностью до 7 знаков*"
   ]
  },
  {
   "cell_type": "code",
   "execution_count": null,
   "metadata": {},
   "outputs": [],
   "source": []
  },
  {
   "cell_type": "code",
   "execution_count": null,
   "metadata": {},
   "outputs": [],
   "source": [
    ""
   ]
  },
  {
   "cell_type": "code",
   "execution_count": null,
   "metadata": {},
   "outputs": [],
   "source": []
  },
  {
   "cell_type": "markdown",
   "metadata": {},
   "source": [
    "***  \n",
    "# Функции  \n",
    "\n",
    ">def foo():  \n",
    ">    pass  \n",
    ">    return "
   ]
  },
  {
   "cell_type": "markdown",
   "metadata": {},
   "source": [
    "**Факториал**  \n",
    "Создать функцию, которая высчитывает факториал.  \n",
    "\n",
    ">def factorial(n):\n",
    ">    return ..  "
   ]
  },
  {
   "cell_type": "code",
   "execution_count": null,
   "metadata": {},
   "outputs": [],
   "source": []
  },
  {
   "cell_type": "markdown",
   "metadata": {},
   "source": [
    "****"
   ]
  },
  {
   "cell_type": "code",
   "execution_count": null,
   "metadata": {},
   "outputs": [],
   "source": []
  },
  {
   "cell_type": "markdown",
   "metadata": {},
   "source": [
    "***  \n",
    "# Лист и словарь  \n",
    "\n",
    ">a = [1, 2, 3]  # list  \n",
    ">b = {1: \"a\", 2: \"b\", 3: \"c\"}  # dict  "
   ]
  },
  {
   "cell_type": "markdown",
   "metadata": {},
   "source": [
    "**Вывести лист**  \n",
    "Создать и вывести массив.\n",
    "\n",
    ">a = [0, 1, 2, 3, 4]\n",
    "\n",
    ">for i in a:\n",
    ">    print(a)"
   ]
  },
  {
   "cell_type": "code",
   "execution_count": null,
   "metadata": {},
   "outputs": [],
   "source": []
  },
  {
   "cell_type": "markdown",
   "metadata": {},
   "source": [
    "**Четные элементы**  \n",
    "Считайте и выведите массив длины *n*."
   ]
  },
  {
   "cell_type": "code",
   "execution_count": null,
   "metadata": {},
   "outputs": [],
   "source": [
    ""
   ]
  },
  {
   "cell_type": "markdown",
   "metadata": {},
   "source": [
    "***   \n",
    "# Модули  \n",
    "\n",
    ">import math"
   ]
  },
  {
   "cell_type": "markdown",
   "metadata": {},
   "source": [
    "**Посчитайте**  \n",
    "\n",
    "> sin(Pi/2 + x ^ 2) - 3.2 * x "
   ]
  },
  {
   "cell_type": "code",
   "execution_count": null,
   "metadata": {},
   "outputs": [],
   "source": []
  },
  {
   "cell_type": "code",
   "execution_count": null,
   "metadata": {},
   "outputs": [],
   "source": []
  }
 ],
 "metadata": {
  "kernelspec": {
   "display_name": "Python 3",
   "language": "python",
   "name": "python3"
  },
  "language_info": {
   "codemirror_mode": {
    "name": "ipython",
    "version": 3
   },
   "file_extension": ".py",
   "mimetype": "text/x-python",
   "name": "python",
   "nbconvert_exporter": "python",
   "pygments_lexer": "ipython3",
   "version": "3.6.7"
  }
 },
 "nbformat": 4,
 "nbformat_minor": 2
}
