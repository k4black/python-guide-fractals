{
 "cells": [
  {
   "cell_type": "markdown",
   "metadata": {},
   "source": [
    "# Примитивные типы и переменные, базовый ввод-вывод"
   ]
  },
  {
   "cell_type": "markdown",
   "metadata": {},
   "source": [
    "**Первая программа**  \n",
    "Приветствуем мир\n",
    "\n",
    "<blockquote>print( \"Hello world!\" )</blockquote>\n",
    "\n",
    "**Ваша очередь**  \n",
    "Выведите на экран своё имя"
   ]
  },
  {
   "cell_type": "code",
   "execution_count": null,
   "metadata": {},
   "outputs": [],
   "source": []
  },
  {
   "cell_type": "markdown",
   "metadata": {},
   "source": [
    "Python - язык программирования с динамической типизацией. Это значит, что программа сама понимает, какого типа данными она манипулирует, и нигде не нужно писать `integer`, `string`, `double` и так далее. Также динамическая типизация позволяет выпонять такой код без ошибок:\n",
    "\n",
    "<blockquote>\n",
    "    n = 13<br>\n",
    "    n = \"Hello\"<br>\n",
    "    print( n )\n",
    "</blockquote>\n",
    "\n",
    "**Практика**  \n",
    "Считайте с клавиатуры _n_, вычислите и выведите на экран *n*3*"
   ]
  },
  {
   "cell_type": "code",
   "execution_count": null,
   "metadata": {},
   "outputs": [],
   "source": []
  },
  {
   "cell_type": "markdown",
   "metadata": {},
   "source": [
    "Не вышло? Дело в том, что данные, читаемые чере `input()` по умолчанию являются строкой, так что для того, чтобы вывести утроенное число, нужно сделать так:\n",
    "\n",
    "<blockquote>\n",
    "    n = int(input())<br>\n",
    "    print( n*3 )\n",
    "</blockquote>\n",
    "\n",
    "**Строки**  \n",
    "Выведите строку, состоящуюю из _4_ последовательностей символов *'HSE'*"
   ]
  },
  {
   "cell_type": "code",
   "execution_count": null,
   "metadata": {},
   "outputs": [],
   "source": []
  },
  {
   "cell_type": "markdown",
   "metadata": {},
   "source": [
    "**Цикл for**  \n",
    "\n",
    "<blockquote>\n",
    "for i in range(4, 7):<br>\n",
    "    &nbsp;&nbsp;&nbsp;&nbsp;# do something\n",
    "</blockquote>\n",
    "\n",
    "**Числа**  \n",
    "Выведите по порядку все числа текущего месяца"
   ]
  },
  {
   "cell_type": "code",
   "execution_count": null,
   "metadata": {},
   "outputs": [],
   "source": []
  },
  {
   "cell_type": "markdown",
   "metadata": {},
   "source": [
    "# Вещественные числа"
   ]
  },
  {
   "cell_type": "markdown",
   "metadata": {},
   "source": [
    "**Переменные**  \n",
    "Давайте создадим переменную и выведем её\n",
    "\n",
    ">a = 3  \n",
    ">print( a )"
   ]
  },
  {
   "cell_type": "markdown",
   "metadata": {},
   "source": [
    "**a + b = c**  \n",
    "Вводятся *a, b, c* - действительные числа. \n",
    "\n",
    "*Сравнение с точностью до 7 знаков*"
   ]
  },
  {
   "cell_type": "markdown",
   "metadata": {},
   "source": [
    "**Ввод данных**  \n",
    "Сосчитайте сумму двух введенных чисел\n",
    "\n",
    ">a = input()  \n",
    ">b = input()  \n",
    ">print( a + b )"
   ]
  },
  {
   "cell_type": "code",
   "execution_count": null,
   "metadata": {},
   "outputs": [],
   "source": []
  },
  {
   "cell_type": "markdown",
   "metadata": {},
   "source": [
    "**Четные элементы**  \n",
    "Считайте с клавиатуры и выведите массив длины *n*."
   ]
  },
  {
   "cell_type": "code",
   "execution_count": null,
   "metadata": {},
   "outputs": [],
   "source": []
  },
  {
   "cell_type": "markdown",
   "metadata": {},
   "source": [
    "**Переменные**  \n",
    "Давайте создадим переменную и выведем её\n",
    "\n",
    ">a = 3  \n",
    ">print( a )"
   ]
  },
  {
   "cell_type": "code",
   "execution_count": 0,
   "metadata": {},
   "outputs": [],
   "source": []
  },
  {
   "cell_type": "markdown",
   "metadata": {},
   "source": [
    "<details>\n",
    "    <summary>Подсказка</summary>\n",
    "    <p>\n",
    "        <blockquote>\n",
    "            <p>a = 3 <br>\n",
    "                print( a )</p>\n",
    "        </blockquote>\n",
    "    </p>\n",
    "</details>"
   ]
  },
  {
   "cell_type": "markdown",
   "metadata": {},
   "source": [
    "# Условный оператор, цикл while"
   ]
  },
  {
   "cell_type": "markdown",
   "metadata": {},
   "source": [
    "<blockquote>\n",
    "if A and B:<br>\n",
    "    &nbsp;&nbsp;&nbsp;&nbsp;pass<br>\n",
    "else:<br>\n",
    "    &nbsp;&nbsp;&nbsp;&nbsp;pass\n",
    "</blockquote>\n",
    "\n",
    "<blockquote>\n",
    "while A or B:<br>\n",
    "    &nbsp;&nbsp;&nbsp;&nbsp;pass\n",
    "</blockquote>\n",
    "\n",
    "**Максимум из трёх чисел**  \n",
    "Даны **три** числа. Найдите и выведите максимум"
   ]
  },
  {
   "cell_type": "code",
   "execution_count": null,
   "metadata": {},
   "outputs": [],
   "source": []
  },
  {
   "cell_type": "markdown",
   "metadata": {},
   "source": [
    "**Квадраты чисел**  \n",
    "Выведите на экран в порядке возрастания все натуральные числа такие, что квадрат каждого из них меньше 70"
   ]
  },
  {
   "cell_type": "code",
   "execution_count": null,
   "metadata": {},
   "outputs": [],
   "source": []
  },
  {
   "cell_type": "markdown",
   "metadata": {},
   "source": [
    "# Функции  \n",
    "\n",
    "<blockquote>\n",
    "def foo():<br>\n",
    "    &nbsp;&nbsp;&nbsp;&nbsp;...<br>\n",
    "return\n",
    "</blockquote>"
   ]
  },
  {
   "cell_type": "markdown",
   "metadata": {},
   "source": [
    "**Факториал**  \n",
    "Создать функцию, которая высчитывает факториал.  \n",
    "\n",
    "<blockquote>\n",
    "def factorial(n):<br>\n",
    "    &nbsp;&nbsp;&nbsp;&nbsp;...<br>\n",
    "return...\n",
    "</blockquote>"
   ]
  },
  {
   "cell_type": "code",
   "execution_count": null,
   "metadata": {},
   "outputs": [],
   "source": []
  },
  {
   "cell_type": "markdown",
   "metadata": {},
   "source": [
    "***  \n",
    "# Лист (список) и словарь  \n",
    "\n",
    ">a = [1, 2, 3]  # list  \n",
    ">b = {1: \"a\", 2: \"b\", 3: \"c\"}  # dict  "
   ]
  },
  {
   "cell_type": "markdown",
   "metadata": {},
   "source": [
    "**Вывести лист**  \n",
    "Создать и вывести список\n",
    "\n",
    "<blockquote>\n",
    "arr = [0, 1, 2, 3, 4]<br>\n",
    "for elem in arr:<br>\n",
    "    &nbsp;&nbsp;&nbsp;&nbsp;print(elem)\n",
    "</blockquote>"
   ]
  },
  {
   "cell_type": "code",
   "execution_count": null,
   "metadata": {},
   "outputs": [],
   "source": []
  },
  {
   "cell_type": "markdown",
   "metadata": {},
   "source": [
    "**Максимум**  \n",
    "Вводятся *n* чисел. Найдите максимум среди них и выведите его. "
   ]
  },
  {
   "cell_type": "code",
   "execution_count": null,
   "metadata": {},
   "outputs": [],
   "source": []
  },
  {
   "cell_type": "markdown",
   "metadata": {},
   "source": [
    "***   \n",
    "# Модули  \n",
    "\n",
    ">import math"
   ]
  },
  {
   "cell_type": "markdown",
   "metadata": {},
   "source": [
    "Посчитайте  \n",
    "\n",
    "$\\sin(\\frac{\\pi}{2} + x^2) - 3.2\\cdot x$"
   ]
  },
  {
   "cell_type": "markdown",
   "metadata": {},
   "source": [
    "<details>\n",
    "    <summary>Подсказка</summary>\n",
    "        <blockquote>\n",
    "        math.sin(math.pi/2 + x**2) - 3.2*x\n",
    "        </blockquote>\n",
    "</details>"
   ]
  },
  {
   "cell_type": "markdown",
   "metadata": {},
   "source": [
    "**Задача:**  \n",
    "Создать двумерный массив, имитирующий точки на комплексной плоскости  \n",
    "**Решение**:"
   ]
  },
  {
   "cell_type": "code",
   "execution_count": 32,
   "metadata": {},
   "outputs": [
    {
     "name": "stdout",
     "output_type": "stream",
     "text": [
      "[[-2.-2.j -2.-1.j -2.+0.j -2.+1.j -2.+2.j]\n",
      " [-1.-2.j -1.-1.j -1.+0.j -1.+1.j -1.+2.j]\n",
      " [ 0.-2.j  0.-1.j  0.+0.j  0.+1.j  0.+2.j]\n",
      " [ 1.-2.j  1.-1.j  1.+0.j  1.+1.j  1.+2.j]\n",
      " [ 2.-2.j  2.-1.j  2.+0.j  2.+1.j  2.+2.j]]\n"
     ]
    }
   ],
   "source": [
    "import numpy as np\n",
    "\n",
    "x, y = np.mgrid[-2:2:5j, -2:2:5j]\n",
    "points = x + y*1j\n",
    "print(points)"
   ]
  },
  {
   "cell_type": "markdown",
   "metadata": {},
   "source": [
    "# Фракталы"
   ]
  },
  {
   "cell_type": "code",
   "execution_count": 16,
   "metadata": {},
   "outputs": [
    {
     "name": "stderr",
     "output_type": "stream",
     "text": [
      "C:\\Users\\Maksim\\AppData\\Local\\Programs\\Python\\Python37\\lib\\site-packages\\ipykernel_launcher.py:30: RuntimeWarning: invalid value encountered in greater\n"
     ]
    },
    {
     "data": {
      "text/plain": [
       "<matplotlib.image.AxesImage at 0x189f9927a90>"
      ]
     },
     "execution_count": 16,
     "metadata": {},
     "output_type": "execute_result"
    },
    {
     "data": {
      "image/png": "[encoded data removed]",
      "text/plain": [
       "<Figure size 432x288 with 1 Axes>"
      ]
     },
     "metadata": {},
     "output_type": "display_data"
    }
   ],
   "source": [
    "import numpy as np\n",
    "import matplotlib.pyplot as plt\n",
    "%matplotlib inline \n",
    "\n",
    "pmin, pmax, qmin, qmax = -2.5, 1.5, -2, 2\n",
    "# пусть c = p + iq, и p меняется в диапазоне от pmin до pmax, а q меняется в диапазоне от qmin до qmax\n",
    "\n",
    "ppoints, qpoints = 200, 200 # число точек по горизонтали и вертикали\n",
    "max_iterations = 300 # максимальное количество итераций\n",
    "infinity_border = 10 # если ушли на это расстояние, считаем, что ушли на бесконечность\n",
    "\n",
    "image = np.zeros((ppoints, qpoints))\n",
    "# image — это двумерный массив, в котором будет записана наша картинка\n",
    "# по умолчанию он заполнен нулями\n",
    "\n",
    "p, q = np.mgrid[pmin:pmax:(ppoints*1j), qmin:qmax:(qpoints*1j)]\n",
    "# np.mgrid создаёт сетку значений p и q, ppoints*1j здесь означает\n",
    "# что мы хотим получить ppoints точек — это такая магия\n",
    "\n",
    "c = p + 1j*q\n",
    "z = np.zeros_like(c)\n",
    "# теперь c и z — это двумерные матрицы\n",
    "\n",
    "for k in range(max_iterations):\n",
    "    z = z**2 + c\n",
    "    \n",
    "    mask = (np.abs(z) > infinity_border) & (image == 0)\n",
    "    # магия\n",
    "    \n",
    "    image[mask] = k\n",
    "    # заносим все найденные ячейки в image значение k\n",
    "    # это аналог оператора if из предыдущей версии кода\n",
    "    \n",
    "    z[mask] = np.nan\n",
    "    # те ячейки, про которые мы уже понимаем, что там \n",
    "    # z «ушло на бесконечность», мы не будем дальше обрабатывать\n",
    "    # для этого вносим в них специальное значение np.nan\n",
    "    # это поможет нам избежать ошибок переполнения\n",
    "    \n",
    "plt.xticks([])\n",
    "plt.yticks([])\n",
    "plt.imshow(-image.T, cmap='flag')"
   ]
  },
  {
   "cell_type": "code",
   "execution_count": 12,
   "metadata": {},
   "outputs": [
    {
     "name": "stderr",
     "output_type": "stream",
     "text": [
      "C:\\Users\\Maksim\\AppData\\Local\\Programs\\Python\\Python37\\lib\\site-packages\\ipykernel_launcher.py:20: RuntimeWarning: invalid value encountered in greater\n"
     ]
    },
    {
     "data": {
      "text/plain": [
       "<function matplotlib.pyplot.clf()>"
      ]
     },
     "execution_count": 12,
     "metadata": {},
     "output_type": "execute_result"
    },
    {
     "data": {
      "image/png": "[encoded data removed]",
      "text/plain": [
       "<Figure size 288x288 with 1 Axes>"
      ]
     },
     "metadata": {},
     "output_type": "display_data"
    }
   ],
   "source": [
    "import matplotlib.pyplot as plt\n",
    "import numpy as np\n",
    "%matplotlib inline\n",
    "\n",
    "def mandelbrot(pmin, pmax, ppoints, qmin, qmax, qpoints, max_iterations=200, infinity_border=10):\n",
    "    # c = p + iq, p в диапазоне (pmin, pmax), q в диапазоне (qmin, qmax)\n",
    "    # размер картинки: ppoints * qpoints\n",
    "    \n",
    "    # наш массив точек для проверки, пока что заполнен нулями\n",
    "    image = np.zeros((ppoints, qpoints))\n",
    "    # квадратные матрицы ppoints*qpoints точек с равномерным распредеелнием по осям в диапазонах [pmin:pmax]*[qmin:qmax]\n",
    "    p, q = np.mgrid[pmin:pmax:(ppoints*1j), qmin:qmax:(qpoints*1j)]\n",
    "    # матрица всех возможных значений c\n",
    "    c = p + 1j*q\n",
    "    # матрица нулей такой же размерности, как c\n",
    "    z = np.zeros_like(c)\n",
    "    for k in range(max_iterations):\n",
    "        z = z**2 + c\n",
    "        # все ячейки image такие, \n",
    "        mask = (np.abs(z) > infinity_border) & (image == 0)\n",
    "        image[mask] = k\n",
    "        z[mask] = np.nan\n",
    "    # транспонируем полученное изображение\n",
    "    return -image.T\n",
    "\n",
    "size_in = 4\n",
    "dpi = 192\n",
    "plt.figure(figsize=(size_in, size_in))\n",
    "image = mandelbrot(-2.5, 1.5, size_in*dpi, -2, 2, size_in*dpi)\n",
    "plt.xticks([])\n",
    "plt.yticks([])\n",
    "plt.imshow(image, cmap='flag')"
   ]
  },
  {
   "cell_type": "code",
   "execution_count": 17,
   "metadata": {},
   "outputs": [
    {
     "name": "stderr",
     "output_type": "stream",
     "text": [
      "C:\\Users\\Maksim\\AppData\\Local\\Programs\\Python\\Python37\\lib\\site-packages\\ipykernel_launcher.py:20: RuntimeWarning: invalid value encountered in greater\n"
     ]
    },
    {
     "data": {
      "text/plain": [
       "<matplotlib.image.AxesImage at 0x189f9995780>"
      ]
     },
     "execution_count": 17,
     "metadata": {},
     "output_type": "execute_result"
    },
    {
     "data": {
      "image/png": "[encoded data removed]",
      "text/plain": [
       "<Figure size 288x288 with 1 Axes>"
      ]
     },
     "metadata": {},
     "output_type": "display_data"
    }
   ],
   "source": [
    "import matplotlib.pyplot as plt\n",
    "import numpy as np\n",
    "%matplotlib inline\n",
    "\n",
    "def burning_ship(pmin, pmax, ppoints, qmin, qmax, qpoints, max_iterations=200, infinity_border=10):\n",
    "    # c = p + iq, p в диапазоне (pmin, pmax), q в диапазоне (qmin, qmax)\n",
    "    # размер картинки: ppoints * qpoints\n",
    "    \n",
    "    # наш массив точек для проверки, пока что заполнен нулями\n",
    "    image = np.zeros((ppoints, qpoints))\n",
    "    # квадратные матрицы ppoints*qpoints точек с равномерным распредеелнием по осям в диапазонах [pmin:pmax]*[qmin:qmax]\n",
    "    p, q = np.mgrid[pmin:pmax:(ppoints*1j), qmin:qmax:(qpoints*1j)]\n",
    "    # матрица всех возможных значений c\n",
    "    c = p + 1j*q\n",
    "    # матрица нулей такой же размерности, как c\n",
    "    z = np.zeros_like(c)\n",
    "    for k in range(max_iterations):\n",
    "        z = (abs(z.real) + 1j*abs(z.imag))**2 + c\n",
    "        # все ячейки image такие, \n",
    "        mask = (np.abs(z) > infinity_border) & (image == 0)\n",
    "        image[mask] = k\n",
    "        z[mask] = np.nan\n",
    "    # транспонируем полученное изображение\n",
    "    return -image.T\n",
    "\n",
    "size_in = 4\n",
    "dpi = 192\n",
    "plt.figure(figsize=(size_in, size_in))\n",
    "image = burning_ship(-2.5, 1.5, size_in*dpi, -2, 2, size_in*dpi)\n",
    "plt.xticks([])\n",
    "plt.yticks([])\n",
    "plt.imshow(image, cmap='flag')"
   ]
  },
  {
   "cell_type": "code",
   "execution_count": 30,
   "metadata": {},
   "outputs": [
    {
     "name": "stderr",
     "output_type": "stream",
     "text": [
      "C:\\Users\\Maksim\\AppData\\Local\\Programs\\Python\\Python37\\lib\\site-packages\\ipykernel_launcher.py:43: RuntimeWarning: invalid value encountered in greater\n"
     ]
    },
    {
     "data": {
      "text/plain": [
       "<matplotlib.image.AxesImage at 0x1c054f86208>"
      ]
     },
     "execution_count": 30,
     "metadata": {},
     "output_type": "execute_result"
    },
    {
     "data": {
      "image/png": "[encoded data removed]",
      "text/plain": [
       "<Figure size 576x576 with 1 Axes>"
      ]
     },
     "metadata": {},
     "output_type": "display_data"
    }
   ],
   "source": [
    "import numpy as np\n",
    "import matplotlib.pyplot as plt\n",
    "import matplotlib.cm as cm\n",
    "%matplotlib inline\n",
    "\n",
    "def julia_set():\n",
    "    # Image width and height; parameters for the plot\n",
    "    im_width, im_height = 500, 500\n",
    "    c = complex(-0.1, 0.65)\n",
    "    zabs_max = 10\n",
    "    nit_max = 1000\n",
    "    xmin, xmax = -1.5, 1.5\n",
    "    xwidth = xmax - xmin\n",
    "    ymin, ymax = -1.5, 1.5\n",
    "    yheight = ymax - ymin\n",
    "\n",
    "    julia = np.zeros((im_width, im_height))\n",
    "    for ix in range(im_width):\n",
    "        for iy in range(im_height):\n",
    "            nit = 0\n",
    "            # Map pixel position to a point in the complex plane\n",
    "            z = complex(ix / im_width * xwidth + xmin,\n",
    "                        iy / im_height * yheight + ymin)\n",
    "            # Do the iterations\n",
    "            while abs(z) <= zabs_max and nit < nit_max:\n",
    "                z = z**2 + c\n",
    "                nit += 1\n",
    "            shade = 1-np.sqrt(nit / nit_max)\n",
    "            ratio = nit / nit_max\n",
    "            julia[ix,iy] = ratio\n",
    "            \n",
    "    return julia\n",
    "\n",
    "def jsn(pmin, pmax, ppoints, qmin, qmax, qpoints, iterat=100, infty=10):\n",
    "    image = np.zeros((ppoints, qpoints))\n",
    "    z = np.zeros_like(image)\n",
    "    c = -0.1 + 0.65j\n",
    "    p, q = np.mgrid[pmin:pmax:(ppoints*1j), qmin:qmax:(qpoints*1j)]\n",
    "    # матрица всех возможных значений z\n",
    "    z = p + 1j*q\n",
    "    for k in range(iterat):\n",
    "        z = z**2 + c\n",
    "        mask = (np.abs(z) > infty) & (image == 0)\n",
    "        image[mask] = k\n",
    "        z[mask] = np.nan\n",
    "    return image\n",
    "\n",
    "size_in = 8\n",
    "dpi = 192\n",
    "image = jsn(-1.5, 1.5, size_in*dpi, -1.5, 1.5, size_in*dpi)\n",
    "plt.figure(figsize=(size_in, size_in))\n",
    "plt.xticks([])\n",
    "plt.yticks([])\n",
    "plt.imshow(image, cmap=cm.cividis)"
   ]
  },
  {
   "cell_type": "code",
   "execution_count": null,
   "metadata": {},
   "outputs": [],
   "source": []
  }
 ],
 "metadata": {
  "kernelspec": {
   "display_name": "Python 3",
   "language": "python",
   "name": "python3"
  },
  "language_info": {
   "codemirror_mode": {
    "name": "ipython",
    "version": 3
   },
   "file_extension": ".py",
   "mimetype": "text/x-python",
   "name": "python",
   "nbconvert_exporter": "python",
   "pygments_lexer": "ipython3",
   "version": "3.7.0"
  }
 },
 "nbformat": 4,
 "nbformat_minor": 2
}
