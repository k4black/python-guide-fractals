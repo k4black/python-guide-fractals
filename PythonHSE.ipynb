{
 "cells": [
  {
   "cell_type": "markdown",
   "metadata": {},
   "source": [
    "# Примитивные типы и переменные"
   ]
  },
  {
   "cell_type": "markdown",
   "metadata": {},
   "source": [
    "**Первая программа**  \n",
    "Приветствуем мир\n",
    "\n",
    ">print( \"Hello world!\" )"
   ]
  },
  {
   "cell_type": "markdown",
   "metadata": {},
   "source": [
    "**Максимум из трёх чисел**  \n",
    "Даны **три** числа. Найдите и выведите максимум"
   ]
  },
  {
   "cell_type": "code",
   "execution_count": null,
   "metadata": {},
   "outputs": [],
   "source": []
  },
  {
   "cell_type": "markdown",
   "metadata": {},
   "source": [
    "**Факториал**  \n",
    "*n!=1$\\cdot$2$\\cdot$...$\\cdot$n*. Вычислите *n!*"
   ]
  },
  {
   "cell_type": "code",
   "execution_count": null,
   "metadata": {},
   "outputs": [],
   "source": []
  },
  {
   "cell_type": "markdown",
   "metadata": {},
   "source": [
    "**Целые числа**  \n",
    "Вычислите и выведите\n",
    "\n",
    ">5! + 12 * 2"
   ]
  },
  {
   "cell_type": "markdown",
   "metadata": {},
   "source": [
    "**Дробные числа**  \n",
    "Сосчитайте площадь треугольника, где  \n",
    "***h*** *- высота*  \n",
    "***a*** *- сторона*\n",
    "\n",
    ">h = 11  \n",
    ">a = 7"
   ]
  },
  {
   "cell_type": "code",
   "execution_count": null,
   "metadata": {},
   "outputs": [],
   "source": []
  },
  {
   "cell_type": "markdown",
   "metadata": {},
   "source": [
    "**Максимум**  \n",
    "Вводятся *n* чисел. Найдите максимум среди них и выведите его. "
   ]
  },
  {
   "cell_type": "code",
   "execution_count": null,
   "metadata": {},
   "outputs": [],
   "source": []
  },
  {
   "cell_type": "markdown",
   "metadata": {},
   "source": [
    "**Строки**  \n",
    "Выведите строку, состоящуюю из *56* букв *'i'*"
   ]
  },
  {
   "cell_type": "code",
   "execution_count": null,
   "metadata": {},
   "outputs": [],
   "source": []
  },
  {
   "cell_type": "markdown",
   "metadata": {},
   "source": [
    "***  \n",
    "# Вещественные числа"
   ]
  },
  {
   "cell_type": "markdown",
   "metadata": {},
   "source": [
    "**Переменные**  \n",
    "Давайте создадим переменную и выведем её\n",
    "\n",
    ">a = 3  \n",
    ">print( a )"
   ]
  },
  {
   "cell_type": "markdown",
   "metadata": {},
   "source": [
    "**a + b = c**  \n",
    "Вводятся *a, b, c* - действительные числа. \n",
    "\n",
    "*Сравнение с точностью до 7 знаков*"
   ]
  },
  {
   "cell_type": "markdown",
   "metadata": {},
   "source": [
    "**Ввод данных**  \n",
    "Сосчитайте сумму двух введенных чисел\n",
    "\n",
    ">a = input()  \n",
    ">b = input()  \n",
    ">print( a + b )"
   ]
  },
  {
   "cell_type": "markdown",
   "metadata": {},
   "source": [
    "***"
   ]
  },
  {
   "cell_type": "markdown",
   "metadata": {},
   "source": [
    "**Площадь треугольника**  \n",
    "Считайте с клавиатуры следующие перменные и вычислите по ним площадь треугольника  \n",
    "***h*** *- высота*  \n",
    "***a*** *- сторона*"
   ]
  },
  {
   "cell_type": "code",
   "execution_count": null,
   "metadata": {},
   "outputs": [],
   "source": []
  },
  {
   "cell_type": "markdown",
   "metadata": {},
   "source": [
    "**Четные элементы**  \n",
    "Считайте с клавиатуры и выведите массив длины *n*."
   ]
  },
  {
   "cell_type": "code",
   "execution_count": null,
   "metadata": {},
   "outputs": [],
   "source": []
  },
  {
   "cell_type": "markdown",
   "metadata": {},
   "source": [
    "**Переменные**  \n",
    "Давайте создадим переменную и выведем её\n",
    "\n",
    ">a = 3  \n",
    ">print( a )"
   ]
  },
  {
   "cell_type": "code",
   "execution_count": 0,
   "metadata": {},
   "outputs": [],
   "source": []
  },
  {
   "cell_type": "markdown",
   "metadata": {},
   "source": [
    "<details>\n",
    "    <summary>Подсказка</summary>\n",
    "    <p>\n",
    "        <blockquote>\n",
    "            <p>a = 3 <br>\n",
    "                print( a )</p>\n",
    "        </blockquote>\n",
    "    </p>\n",
    "</details>"
   ]
  },
  {
   "cell_type": "markdown",
   "metadata": {},
   "source": [
    "***  \n",
    "# Условный оператор, цикл while"
   ]
  },
  {
   "cell_type": "markdown",
   "metadata": {},
   "source": [
    "<blockquote>\n",
    "if A and B:<br>\n",
    "    &nbsp;&nbsp;&nbsp;&nbsp;pass<br>\n",
    "else:<br>\n",
    "    &nbsp;&nbsp;&nbsp;&nbsp;pass\n",
    "</blockquote>\n",
    "\n",
    "<blockquote>\n",
    "while A or B:<br>\n",
    "    &nbsp;&nbsp;&nbsp;&nbsp;pass\n",
    "</blockquote>"
   ]
  },
  {
   "cell_type": "markdown",
   "metadata": {},
   "source": [
    "***  \n",
    "# Функции  \n",
    "\n",
    "<blockquote>\n",
    "def foo():<br>\n",
    "    &nbsp;&nbsp;&nbsp;&nbsp;pass<br>\n",
    "return\n",
    "</blockquote>"
   ]
  },
  {
   "cell_type": "markdown",
   "metadata": {},
   "source": [
    "**Факториал**  \n",
    "Создать функцию, которая высчитывает факториал.  \n",
    "\n",
    "<blockquote>\n",
    "def factorial(n):<br>\n",
    "    &nbsp;&nbsp;&nbsp;&nbsp;...<br>\n",
    "return...\n",
    "</blockquote>"
   ]
  },
  {
   "cell_type": "code",
   "execution_count": null,
   "metadata": {},
   "outputs": [],
   "source": []
  },
  {
   "cell_type": "markdown",
   "metadata": {},
   "source": [
    "***  \n",
    "# Лист (список) и словарь  \n",
    "\n",
    ">a = [1, 2, 3]  # list  \n",
    ">b = {1: \"a\", 2: \"b\", 3: \"c\"}  # dict  "
   ]
  },
  {
   "cell_type": "markdown",
   "metadata": {},
   "source": [
    "**Вывести лист**  \n",
    "Создать и вывести список\n",
    "\n",
    "<blockquote>\n",
    "arr = [0, 1, 2, 3, 4]<br>\n",
    "for elem in arr:<br>\n",
    "    &nbsp;&nbsp;&nbsp;&nbsp;print(elem)\n",
    "</blockquote>"
   ]
  },
  {
   "cell_type": "code",
   "execution_count": null,
   "metadata": {},
   "outputs": [],
   "source": []
  },
  {
   "cell_type": "markdown",
   "metadata": {},
   "source": [
    "***   \n",
    "# Модули  \n",
    "\n",
    ">import math"
   ]
  },
  {
   "cell_type": "markdown",
   "metadata": {},
   "source": [
    "Посчитайте  \n",
    "\n",
    "$\\sin(\\frac{\\pi}{2} + x^2) - 3.2\\cdot x$"
   ]
  },
  {
   "cell_type": "markdown",
   "metadata": {},
   "source": [
    "<details>\n",
    "    <summary>Подсказка</summary>\n",
    "        <blockquote>\n",
    "        math.sin(math.pi/2 + x**2) - 3.2*x\n",
    "        </blockquote>\n",
    "</details>"
   ]
  },
  {
   "cell_type": "markdown",
   "metadata": {},
   "source": [
    "# Фракталы"
   ]
  },
  {
   "cell_type": "code",
   "execution_count": 6,
   "metadata": {},
   "outputs": [
    {
     "name": "stderr",
     "output_type": "stream",
     "text": [
      "C:\\Users\\Maksim\\AppData\\Local\\Programs\\Python\\Python37\\lib\\site-packages\\ipykernel_launcher.py:42: RuntimeWarning: invalid value encountered in greater\n"
     ]
    },
    {
     "data": {
      "text/plain": [
       "<matplotlib.image.AxesImage at 0x17219571128>"
      ]
     },
     "execution_count": 6,
     "metadata": {},
     "output_type": "execute_result"
    },
    {
     "data": {
      "image/png": "[encoded data removed]",
      "text/plain": [
       "<Figure size 432x288 with 1 Axes>"
      ]
     },
     "metadata": {
      "image/png": {
       "height": 235.0,
       "width": 235.0
      }
     },
     "output_type": "display_data"
    }
   ],
   "source": [
    "import numpy as np\n",
    "import matplotlib.pyplot as plt\n",
    "%matplotlib inline \n",
    "# %config InlineBackend.figure_format='retina'\n",
    "\n",
    "pmin, pmax, qmin, qmax = -2.5, 1.5, -2, 2\n",
    "# пусть c = p + iq, и p меняется в диапазоне от pmin до pmax, а q меняется в диапазоне от qmin до qmax\n",
    "\n",
    "ppoints, qpoints = 200, 200 # число точек по горизонтали и вертикали\n",
    "max_iterations = 300 # максимальное количество итераций\n",
    "infinity_border = 10 # если ушли на это расстояние, считаем, что ушли на бесконечность\n",
    "\n",
    "image = np.zeros((ppoints, qpoints))\n",
    "# image — это двумерный массив, в котором будет записана наша картинка\n",
    "# по умолчанию он заполнен нулями\n",
    "\n",
    "p, q = np.mgrid[pmin:pmax:(ppoints*1j), qmin:qmax:(qpoints*1j)]\n",
    "# np.mgrid создаёт сетку значений p и q, ppoints*1j здесь означает\n",
    "# что мы хотим получить ppoints точек — это такая магия\n",
    "\n",
    "c = p + 1j*q\n",
    "z = np.zeros_like(c)\n",
    "# теперь c и z — это двумерные матрицы\n",
    "\n",
    "for k in range(max_iterations):\n",
    "    z = z**2 + c\n",
    "    # Самая Главная Формула осталась без изменений\n",
    "    # но в данном случае операции производятся с матрицами\n",
    "    # и действуют поэлементно\n",
    "    \n",
    "    mask = (np.abs(z) > infinity_border) & (image == 0)\n",
    "    # это означает следующее: мы находим все ячейки в матрице z, \n",
    "    # у которых модуль очень большой, и одновременно в соответствующей\n",
    "    # ячейке в матрице image находится ноль\n",
    "    \n",
    "    image[mask] = k\n",
    "    # заносим все найденные ячейки в image значение k\n",
    "    # это аналог оператора if из предыдущей версии кода\n",
    "    \n",
    "    z[mask] = np.nan\n",
    "    # те ячейки, про которые мы уже понимаем, что там \n",
    "    # z «ушло на бесконечность», мы не будем дальше обрабатывать\n",
    "    # для этого вносим в них специальное значение np.nan\n",
    "    # это поможет нам избежать ошибок переполнения\n",
    "    \n",
    "plt.xticks([])\n",
    "plt.yticks([])\n",
    "plt.imshow(-image.T, cmap='flag')"
   ]
  },
  {
   "cell_type": "code",
   "execution_count": 5,
   "metadata": {},
   "outputs": [],
   "source": [
    "import matplotlib.pyplot as plt\n",
    "import numpy as np\n",
    "\n",
    "def mandelbrot(pmin, pmax, ppoints, qmin, qmax, qpoints, \n",
    "               max_iterations=200, infinity_border=10):\n",
    "    \"\"\"\n",
    "    c = p + iq, p в диапазоне (pmin, pmax), q в диапазоне (qmin, qmax)\n",
    "    размер картинки: ppoints * qpoints\n",
    "    \"\"\"\n",
    "    # наш массив точек для проверки, пока что заполнен нулями\n",
    "    image = np.zeros((ppoints, qpoints))\n",
    "    # квадратные матрицы ppoints*qpoints точек с равномерным распредеелнием по осям в диапазонах [pmin:pmax]*[qmin:qmax]\n",
    "    p, q = np.mgrid[pmin:pmax:(ppoints*1j), qmin:qmax:(qpoints*1j)]\n",
    "    # матрица всех возможных значений c\n",
    "    c = p + 1j*q\n",
    "    # матрица нулей такой же размерности, как c\n",
    "    z = np.zeros_like(c)\n",
    "    for k in range(max_iterations):\n",
    "        z = z**2 + c\n",
    "        # все ячейки image такие, \n",
    "        mask = (np.abs(z) > infinity_border) & (image == 0)\n",
    "        image[mask] = k\n",
    "        z[mask] = np.nan\n",
    "    return -image.T"
   ]
  },
  {
   "cell_type": "code",
   "execution_count": 8,
   "metadata": {},
   "outputs": [
    {
     "name": "stderr",
     "output_type": "stream",
     "text": [
      "C:\\Users\\Maksim\\AppData\\Local\\Programs\\Python\\Python37\\lib\\site-packages\\ipykernel_launcher.py:21: RuntimeWarning: invalid value encountered in greater\n"
     ]
    },
    {
     "data": {
      "text/plain": [
       "<matplotlib.image.AxesImage at 0x20e7142a1d0>"
      ]
     },
     "execution_count": 8,
     "metadata": {},
     "output_type": "execute_result"
    }
   ],
   "source": [
    "plt.figure(figsize=(1000/192, 1000/192))\n",
    "image = mandelbrot(-2.5, 1.5, 1000, -2, 2, 1000)\n",
    "plt.xticks([])\n",
    "plt.yticks([])\n",
    "plt.imshow(image, cmap='flag', interpolation='none')"
   ]
  },
  {
   "cell_type": "code",
   "execution_count": null,
   "metadata": {},
   "outputs": [],
   "source": []
  }
 ],
 "metadata": {
  "kernelspec": {
   "display_name": "Python 3",
   "language": "python",
   "name": "python3"
  },
  "language_info": {
   "codemirror_mode": {
    "name": "ipython",
    "version": 3
   },
   "file_extension": ".py",
   "mimetype": "text/x-python",
   "name": "python",
   "nbconvert_exporter": "python",
   "pygments_lexer": "ipython3",
   "version": "3.7.0"
  }
 },
 "nbformat": 4,
 "nbformat_minor": 2
}
